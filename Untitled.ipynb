{
 "cells": [
  {
   "cell_type": "markdown",
   "id": "fecc198a",
   "metadata": {},
   "source": [
    "# Presentación: Santiago Reyes\n",
    "\n",
    "De este curso de Simulación Matemática espero poder aprovechar las bases de programación en Python que hemos adquirido, así como ampliar nuestra capacidad de solución de problemas y optimización a través del modelado y la simulación matemática. Así como aprender a utilizar herramientas tecnológicas para cumplir esto."
   ]
  }
 ],
 "metadata": {
  "kernelspec": {
   "display_name": "Python 3 (ipykernel)",
   "language": "python",
   "name": "python3"
  },
  "language_info": {
   "codemirror_mode": {
    "name": "ipython",
    "version": 3
   },
   "file_extension": ".py",
   "mimetype": "text/x-python",
   "name": "python",
   "nbconvert_exporter": "python",
   "pygments_lexer": "ipython3",
   "version": "3.11.4"
  }
 },
 "nbformat": 4,
 "nbformat_minor": 5
}
