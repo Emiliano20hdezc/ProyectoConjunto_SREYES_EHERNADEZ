{
 "cells": [
  {
   "cell_type": "markdown",
   "id": "fecc198a",
   "metadata": {},
   "source": [
    "# Presentación: Santiago Reyes\n",
    "\n",
    "De este curso de Simulación Matemática espero poder aprovechar las bases de programación en Python que hemos adquirido, así como ampliar nuestra capacidad de solución de problemas y optimización a través del modelado y la simulación matemática. Así como aprender a utilizar herramientas tecnológicas para cumplir esto."
   ]
  },
  {
   "cell_type": "markdown",
   "id": "066469fb",
   "metadata": {},
   "source": [
    "# Presentación: Emiliano Hernández \n",
    "\n",
    "Con el ayuda de esta materia y todos los conocimientos que se nos impartiran espero adquirir las abilidades necesarios para continuar con mi formación de ingeniero. Aunado a esto con los conocimientos que adquirí en el semestre pasado con la materia de Algorítmos y Programación, y todos las otras materias anteriores a este momento. "
   ]
  },
  {
   "cell_type": "markdown",
   "id": "dda1396a",
   "metadata": {},
   "source": [
    "# Transcripción Imagen 1"
   ]
  },
  {
   "cell_type": "markdown",
   "id": "ddea054f",
   "metadata": {},
   "source": []
  },
  {
   "cell_type": "code",
   "execution_count": null,
   "id": "f96b3163",
   "metadata": {},
   "outputs": [],
   "source": []
  },
  {
   "cell_type": "code",
   "execution_count": null,
   "id": "b68a3f50",
   "metadata": {},
   "outputs": [],
   "source": []
  },
  {
   "cell_type": "code",
   "execution_count": null,
   "id": "f5a02120",
   "metadata": {},
   "outputs": [],
   "source": []
  },
  {
   "cell_type": "markdown",
   "id": "084778a3",
   "metadata": {},
   "source": [
    "# Transcricpción Imagen 2"
   ]
  },
  {
   "cell_type": "code",
   "execution_count": null,
   "id": "82391b96",
   "metadata": {},
   "outputs": [],
   "source": []
  },
  {
   "cell_type": "code",
   "execution_count": null,
   "id": "aa16897b",
   "metadata": {},
   "outputs": [],
   "source": []
  },
  {
   "cell_type": "code",
   "execution_count": null,
   "id": "b27a3cec",
   "metadata": {},
   "outputs": [],
   "source": []
  },
  {
   "cell_type": "markdown",
   "id": "0ae01cb7",
   "metadata": {},
   "source": [
    "# Código Python 1"
   ]
  },
  {
   "cell_type": "code",
   "execution_count": null,
   "id": "43f742a8",
   "metadata": {},
   "outputs": [],
   "source": []
  },
  {
   "cell_type": "code",
   "execution_count": null,
   "id": "d5f61e82",
   "metadata": {},
   "outputs": [],
   "source": []
  },
  {
   "cell_type": "code",
   "execution_count": null,
   "id": "cbf9276e",
   "metadata": {},
   "outputs": [],
   "source": []
  },
  {
   "cell_type": "markdown",
   "id": "dfb21117",
   "metadata": {},
   "source": [
    "# Código Python 2"
   ]
  },
  {
   "cell_type": "code",
   "execution_count": null,
   "id": "3da202d7",
   "metadata": {},
   "outputs": [],
   "source": []
  },
  {
   "cell_type": "code",
   "execution_count": null,
   "id": "09efa81f",
   "metadata": {},
   "outputs": [],
   "source": []
  },
  {
   "cell_type": "code",
   "execution_count": null,
   "id": "f6166cc5",
   "metadata": {},
   "outputs": [],
   "source": []
  }
 ],
 "metadata": {
  "kernelspec": {
   "display_name": "Python 3 (ipykernel)",
   "language": "python",
   "name": "python3"
  },
  "language_info": {
   "codemirror_mode": {
    "name": "ipython",
    "version": 3
   },
   "file_extension": ".py",
   "mimetype": "text/x-python",
   "name": "python",
   "nbconvert_exporter": "python",
   "pygments_lexer": "ipython3",
   "version": "3.11.4"
  }
 },
 "nbformat": 4,
 "nbformat_minor": 5
}
