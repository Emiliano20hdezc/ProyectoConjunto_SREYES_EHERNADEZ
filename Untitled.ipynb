{
 "cells": [
  {
   "cell_type": "markdown",
   "id": "fecc198a",
   "metadata": {},
   "source": [
    "# Presentación: Santiago Reyes\n",
    "\n",
    "De este curso de Simulación Matemática espero poder aprovechar las bases de programación en Python que hemos adquirido, así como ampliar nuestra capacidad de solución de problemas y optimización a través del modelado y la simulación matemática. Así como aprender a utilizar herramientas tecnológicas para cumplir esto."
   ]
  },
  {
   "cell_type": "markdown",
   "id": "cb91fc86",
   "metadata": {},
   "source": [
    "# Presentación: Emiliano Hernández \n",
    "\n",
    "Con el ayuda de esta materia y todos los conocimientos que se nos impartiran espero adquirir las abilidades necesarios para continuar con mi formación de ingeniero. Aunado a esto con los conocimientos que adquirí en el semestre pasado con la materia de Algorítmos y Programación, y todos las otras materias anteriores a este momento. "
   ]
  },
  {
   "cell_type": "markdown",
   "id": "dda1396a",
   "metadata": {},
   "source": [
    "# Transcripción Imagen 1"
   ]
  },
  {
   "cell_type": "markdown",
   "id": "9c177f34",
   "metadata": {},
   "source": []
  },
  {
   "cell_type": "markdown",
   "id": "bfcc1e5a",
   "metadata": {},
   "source": []
  },
  {
   "cell_type": "markdown",
   "id": "368b4e0d",
   "metadata": {},
   "source": []
  },
  {
   "cell_type": "markdown",
   "id": "084778a3",
   "metadata": {},
   "source": [
    "# Transcricpción Imagen 2"
   ]
  },
  {
   "cell_type": "markdown",
   "id": "ca60f524",
   "metadata": {},
   "source": [
    "| i | 1 | 2 | 3 | 4 | 5 | 6 | 7 |\n",
    "|-|-|-|-|-|-|-|-|\n",
    "|$E_i(V)$| 12| 10 | 24 | 12 | - | - | - |\n",
    "|$r_i(\\Omega)$| 0.1 | 0.5 | 0.2 | 0.5 | - | - | - |\n",
    "|$R_i(\\Omega)$| 25 | 40 | 16 | 20 | 9 | 4 | 20 |\n"
   ]
  },
  {
   "cell_type": "markdown",
   "id": "66f84d32",
   "metadata": {},
   "source": [
    "<font color=\"blue\"> Kemna y Vorst (1990)</font> muestran que las opciones asiáticas con media geométrica continua se pueden valuar conn el mismo enfoque de las opciones *plain vanilla*; solo se deben cambiar los parámetros de volatilidad $\\sigma$ por $\\sigma_a$, y el costo de acarreo $\\beta$ por $\\beta_A$."
   ]
  },
  {
   "cell_type": "markdown",
   "id": "49fcd8cb",
   "metadata": {},
   "source": [
    "De acuerdo con Kemna y Vorst, las fórmulas para valuar una opción de compra y una opción de venta son:\n",
    "\n",
    "$$c \\approx S_te^{(b_A-r)}\\Phi(d_1) - Ke^{-r(T-t)}\\Phi(d_2)$$,\n",
    "\n",
    "$$p \\approx Ke^{-r(T-t)}\\Phi(-d_2) - S_te^{(b_A-r)(T-t)}\\Phi(-d_1)$$.\n",
    "\n",
    "con $d_1$ y $d_2$ dados por:\n",
    "\n",
    "$$d_1 = \\frac{\\lim(\\frac{S_t}{K}) + (b_A + \\frac{1}{2}\\sigma_a^2)(T-t)}{\\sigma\\sqrt{T-t}}$$.\n",
    "       "
   ]
  },
  {
   "cell_type": "markdown",
   "id": "19cfd7d6",
   "metadata": {},
   "source": [
    "La función $\\Phi(d)$ es la función de distribución acumulada de $E\\sim N(0, 1)$. La volatilidad ajustada es igual a: \n",
    "\n",
    "$\\sigma_a = \\frac{\\sigma}{\\sqrt 3}$,"
   ]
  },
  {
   "cell_type": "markdown",
   "id": "ddf1c7da",
   "metadata": {},
   "source": [
    "mientras que el costo de acarreo ajustado es:\n",
    "\n",
    "$b_A = \\frac{1}{2}(v-\\frac{\\sigma^2}{6})$."
   ]
  },
  {
   "cell_type": "markdown",
   "id": "0ae01cb7",
   "metadata": {},
   "source": [
    "# Código Python 1"
   ]
  },
  {
   "cell_type": "code",
   "execution_count": null,
   "id": "43f742a8",
   "metadata": {},
   "outputs": [],
   "source": []
  },
  {
   "cell_type": "code",
   "execution_count": null,
   "id": "d5f61e82",
   "metadata": {},
   "outputs": [],
   "source": []
  },
  {
   "cell_type": "code",
   "execution_count": null,
   "id": "cbf9276e",
   "metadata": {},
   "outputs": [],
   "source": []
  },
  {
   "cell_type": "markdown",
   "id": "dfb21117",
   "metadata": {},
   "source": [
    "# Código Python 2"
   ]
  },
  {
   "cell_type": "code",
   "execution_count": 1,
   "id": "3da202d7",
   "metadata": {},
   "outputs": [
    {
     "name": "stdout",
     "output_type": "stream",
     "text": [
      "2, 3, 5, 7, 11, 13, 17, 19, 23, 29, 31, 37, 41, 43, 47, 53, 59, 61, 67, 71, 73, 79, 83, 89, 97, "
     ]
    }
   ],
   "source": [
    "def es_primo(numero):\n",
    "    if numero < 2:\n",
    "        return False\n",
    "    for i in range(2, numero):\n",
    "        if numero % i == 0:\n",
    "            return False\n",
    "    return True\n",
    "\n",
    "for i in range(101):\n",
    "    if es_primo(i):\n",
    "        print(i, end=\", \")"
   ]
  }
 ],
 "metadata": {
  "kernelspec": {
   "display_name": "Python 3 (ipykernel)",
   "language": "python",
   "name": "python3"
  },
  "language_info": {
   "codemirror_mode": {
    "name": "ipython",
    "version": 3
   },
   "file_extension": ".py",
   "mimetype": "text/x-python",
   "name": "python",
   "nbconvert_exporter": "python",
   "pygments_lexer": "ipython3",
   "version": "3.11.4"
  }
 },
 "nbformat": 4,
 "nbformat_minor": 5
}
