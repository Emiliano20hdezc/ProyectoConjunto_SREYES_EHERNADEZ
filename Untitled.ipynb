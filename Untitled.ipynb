{
 "cells": [
  {
   "cell_type": "markdown",
   "id": "fecc198a",
   "metadata": {},
   "source": [
    "# Presentación: Santiago Reyes\n",
    "\n",
    "De este curso de Simulación Matemática espero poder aprovechar las bases de programación en Python que hemos adquirido, así como ampliar nuestra capacidad de solución de problemas y optimización a través del modelado y la simulación matemática. Así como aprender a utilizar herramientas tecnológicas para cumplir esto."
   ]
  },
  {
   "cell_type": "markdown",
   "id": "066469fb",
   "metadata": {},
   "source": [
    "# Presentación: Emiliano Hernández \n",
    "\n",
    "Con el ayuda de esta materia y todos los conocimientos que se nos impartiran espero adquirir las abilidades necesarios para continuar con mi formación de ingeniero. Aunado a esto con los conocimientos que adquirí en el semestre pasado con la materia de Algorítmos y Programación, y todos las otras materias anteriores a este momento. "
   ]
  },
  {
   "cell_type": "markdown",
   "id": "d9070d7e",
   "metadata": {},
   "source": [
    "# Transcripción Imagen 1"
   ]
  },
  {
   "cell_type": "markdown",
   "id": "67b415b7",
   "metadata": {},
   "source": []
  },
  {
   "cell_type": "code",
   "execution_count": null,
   "id": "b8931299",
   "metadata": {},
   "outputs": [],
   "source": []
  },
  {
   "cell_type": "code",
   "execution_count": null,
   "id": "0073031e",
   "metadata": {},
   "outputs": [],
   "source": []
  },
  {
   "cell_type": "code",
   "execution_count": null,
   "id": "a1b70fab",
   "metadata": {},
   "outputs": [],
   "source": []
  },
  {
   "cell_type": "markdown",
   "id": "9b362bd7",
   "metadata": {},
   "source": [
    "# Transcricpción Imagen 2"
   ]
  },
  {
   "cell_type": "code",
   "execution_count": null,
   "id": "b6544970",
   "metadata": {},
   "outputs": [],
   "source": []
  },
  {
   "cell_type": "code",
   "execution_count": null,
   "id": "3d247f47",
   "metadata": {},
   "outputs": [],
   "source": []
  },
  {
   "cell_type": "code",
   "execution_count": null,
   "id": "507dffe5",
   "metadata": {},
   "outputs": [],
   "source": []
  },
  {
   "cell_type": "markdown",
   "id": "258e7b73",
   "metadata": {},
   "source": [
    "# Código Python 1"
   ]
  },
  {
   "cell_type": "code",
   "execution_count": null,
   "id": "9cb4362c",
   "metadata": {},
   "outputs": [],
   "source": []
  },
  {
   "cell_type": "code",
   "execution_count": null,
   "id": "e0e0dae9",
   "metadata": {},
   "outputs": [],
   "source": []
  },
  {
   "cell_type": "code",
   "execution_count": null,
   "id": "ccbaf851",
   "metadata": {},
   "outputs": [],
   "source": []
  },
  {
   "cell_type": "code",
   "execution_count": null,
   "id": "cd0b30a5",
   "metadata": {},
   "outputs": [],
   "source": []
  },
  {
   "cell_type": "code",
   "execution_count": null,
   "id": "7452ea96",
   "metadata": {},
   "outputs": [],
   "source": []
  },
  {
   "cell_type": "code",
   "execution_count": null,
   "id": "98786858",
   "metadata": {},
   "outputs": [],
   "source": []
  },
  {
   "cell_type": "code",
   "execution_count": null,
   "id": "98e85ec7",
   "metadata": {},
   "outputs": [],
   "source": []
  }
 ],
 "metadata": {
  "kernelspec": {
   "display_name": "Python 3 (ipykernel)",
   "language": "python",
   "name": "python3"
  },
  "language_info": {
   "codemirror_mode": {
    "name": "ipython",
    "version": 3
   },
   "file_extension": ".py",
   "mimetype": "text/x-python",
   "name": "python",
   "nbconvert_exporter": "python",
   "pygments_lexer": "ipython3",
   "version": "3.11.4"
  }
 },
 "nbformat": 4,
 "nbformat_minor": 5
}
